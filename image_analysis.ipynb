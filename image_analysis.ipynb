{
 "cells": [
  {
   "cell_type": "markdown",
   "id": "da5ab578",
   "metadata": {},
   "source": [
    "## This notebooks consists of simple functions often used to do photometry.  "
   ]
  },
  {
   "cell_type": "markdown",
   "id": "87327067",
   "metadata": {},
   "source": [
    "### Find centroid of an 2d image"
   ]
  },
  {
   "cell_type": "code",
   "execution_count": null,
   "id": "4c752bbb",
   "metadata": {},
   "outputs": [],
   "source": [
    "def find_centroid(image_array, threshold):\n",
    "    \"\"\" Finds the center pixel of a given image using centroid method.\n",
    "\n",
    "    Parameters\n",
    "    ----------\n",
    "    image_array : 2d ndarray\n",
    "        Array of image data.\n",
    "    threshold : float\n",
    "        the minimum pixel count we want to choose \n",
    "        for computing center of mass\n",
    "        \n",
    "    Returns\n",
    "    -------\n",
    "    x_cm : float\n",
    "        The x coord of the center of the centroid.\n",
    "    y_cm : float\n",
    "        The y coord of the center of the centroid.\n",
    "    \"\"\"\n",
    "    total = 0.0\n",
    "    row_sum = 0.0\n",
    "    col_sum = 0.0\n",
    "    row_indexes = []\n",
    "    col_indexes = []\n",
    "    for row in range(0, image_array.shape[0]):\n",
    "        for col in range(0, image_array.shape[1]):\n",
    "            if image_array[row, col] > threshold:\n",
    "                row_indexes.append(row)\n",
    "                col_indexes.append(col)\n",
    "                row_sum = row * image_array[row, col] + row_sum\n",
    "                col_sum = col * image_array[row, col] + col_sum\n",
    "                total = image_array[row, col] + total\n",
    "    y_cm = row_sum / total\n",
    "    x_cm = col_sum / total\n",
    "\n",
    "    return x_cm, y_cm, row_indexes, col_indexes\n"
   ]
  },
  {
   "cell_type": "markdown",
   "id": "be89cd74",
   "metadata": {},
   "source": [
    "### Generate a Step function"
   ]
  },
  {
   "cell_type": "code",
   "execution_count": null,
   "id": "d665d08e",
   "metadata": {},
   "outputs": [],
   "source": [
    "voltage_continous = np.arange(0, 100, 1)\n",
    "time = voltage_continous\n",
    "\n",
    "voltage_step = []\n",
    "step_width = 5\n",
    "y_initial = 0\n",
    "y_jump = 50\n",
    "\n",
    "count = 0.0\n",
    "for i in range(0, len(time)):\n",
    "    if i % step_width == 0:\n",
    "        print(i)\n",
    "        y_step = i*y_jump\n",
    "        count =  count + i*y_jump\n",
    "    else:\n",
    "        y_step = count\n",
    "    voltage_step.append(y_step)\n",
    "    \n",
    "plt.plot(time, np.array(voltage_step))\n",
    "plt.plot(time, voltage_continous)\n",
    "plt.grid()"
   ]
  },
  {
   "cell_type": "markdown",
   "id": "36f0dfbe",
   "metadata": {},
   "source": [
    "### Easy way to create a step function "
   ]
  },
  {
   "cell_type": "code",
   "execution_count": null,
   "id": "0493d313",
   "metadata": {},
   "outputs": [],
   "source": [
    "voltage = np.linspace(0, 1, 1001)\n",
    "step_voltage = np.round((voltage*2**4))*2**(-4)  # For a 4 bit ADU\n",
    "\n",
    "plt.plot(voltage, step_voltage)"
   ]
  }
 ],
 "metadata": {
  "kernelspec": {
   "display_name": "Python 3 (ipykernel)",
   "language": "python",
   "name": "python3"
  },
  "language_info": {
   "codemirror_mode": {
    "name": "ipython",
    "version": 3
   },
   "file_extension": ".py",
   "mimetype": "text/x-python",
   "name": "python",
   "nbconvert_exporter": "python",
   "pygments_lexer": "ipython3",
   "version": "3.7.6"
  }
 },
 "nbformat": 4,
 "nbformat_minor": 5
}
