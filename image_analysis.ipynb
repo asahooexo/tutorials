{
 "cells": [
  {
   "cell_type": "markdown",
   "id": "2b6d181a",
   "metadata": {},
   "source": [
    "## This notebooks consists of simple functions often used to do photometry.  "
   ]
  },
  {
   "cell_type": "markdown",
   "id": "cd3226e7",
   "metadata": {},
   "source": [
    "### Find centroid of an 2d image"
   ]
  },
  {
   "cell_type": "code",
   "execution_count": 1,
   "id": "a2763c61",
   "metadata": {},
   "outputs": [],
   "source": [
    "def find_centroid(image_array, threshold):\n",
    "    \"\"\" Finds the center pixel of a given image using centroid method.\n",
    "\n",
    "    Parameters\n",
    "    ----------\n",
    "    image_array : 2d ndarray\n",
    "        Array of image data.\n",
    "    threshold : float\n",
    "        the minimum pixel count we want to choose \n",
    "        for computing center of mass\n",
    "        \n",
    "    Returns\n",
    "    -------\n",
    "    x_cm : float\n",
    "        The x coord of the center of the centroid.\n",
    "    y_cm : float\n",
    "        The y coord of the center of the centroid.\n",
    "    \"\"\"\n",
    "    total = 0.0\n",
    "    row_sum = 0.0\n",
    "    col_sum = 0.0\n",
    "    row_indexes = []\n",
    "    col_indexes = []\n",
    "    for row in range(0, image_array.shape[0]):\n",
    "        for col in range(0, image_array.shape[1]):\n",
    "            if image_array[row, col] > threshold:\n",
    "                row_indexes.append(row)\n",
    "                col_indexes.append(col)\n",
    "                row_sum = row * image_array[row, col] + row_sum\n",
    "                col_sum = col * image_array[row, col] + col_sum\n",
    "                total = image_array[row, col] + total\n",
    "    y_cm = row_sum / total\n",
    "    x_cm = col_sum / total\n",
    "\n",
    "    return x_cm, y_cm, row_indexes, col_indexes\n"
   ]
  },
  {
   "cell_type": "code",
   "execution_count": null,
   "id": "3b122b54",
   "metadata": {},
   "outputs": [],
   "source": []
  }
 ],
 "metadata": {
  "kernelspec": {
   "display_name": "Python 3 (ipykernel)",
   "language": "python",
   "name": "python3"
  },
  "language_info": {
   "codemirror_mode": {
    "name": "ipython",
    "version": 3
   },
   "file_extension": ".py",
   "mimetype": "text/x-python",
   "name": "python",
   "nbconvert_exporter": "python",
   "pygments_lexer": "ipython3",
   "version": "3.10.4"
  }
 },
 "nbformat": 4,
 "nbformat_minor": 5
}
