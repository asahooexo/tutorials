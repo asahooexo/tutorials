{
 "cells": [
  {
   "cell_type": "code",
   "execution_count": null,
   "id": "8568c872-36b0-4714-a25a-643cd97df289",
   "metadata": {},
   "outputs": [],
   "source": [
    "import matplotlib.pyplot as plt\n",
    "import numpy as np\n",
    "\n",
    "import poppy\n",
    "from poppy.tests.test_matrixDFT import makedisk\n",
    "import poppy.matrixDFT as matrixDFT\n",
    "\n",
    "import math"
   ]
  },
  {
   "cell_type": "code",
   "execution_count": null,
   "id": "2a534b57-d84c-4ef7-98a5-bd3c699cde68",
   "metadata": {},
   "outputs": [],
   "source": [
    "px = 100\n",
    "\n",
    "pupil = makedisk(s=(px, px), c=(49.5, 49.5), r=25.0) \n",
    "#phase = np.zeros((100, 100)) \n",
    "\n",
    "nx, ny = (px, px)\n",
    "x = np.linspace(0, 1, nx)\n",
    "y = np.linspace(0, 1, ny)\n",
    "y_tilt, x_tilt = np.meshgrid(x, y)\n",
    "\n",
    "phase = y_tilt * 0.1 * pupil  #make sure that tan(phase) is not assymptotic for this phase. \n",
    "\n",
    "pupilarray = pupil * np.exp(1j * phase)\n",
    "\n",
    "focalplane_size=100  # in l/D units\n",
    "focalplane_npix=100\n",
    "\n",
    "mft = matrixDFT.MatrixFourierTransform()\n",
    "imagefield = mft.perform(pupilarray, focalplane_size, focalplane_npix)"
   ]
  },
  {
   "cell_type": "code",
   "execution_count": null,
   "id": "b1dd6b66-08d7-45ca-bc86-0303450f1eea",
   "metadata": {},
   "outputs": [],
   "source": [
    "\n",
    "plt.figure(figsize=(15, 7.5))\n",
    "plt.suptitle(\"Phase Cross-Section Analysis\")\n",
    "plt.subplot(1, 2, 1)\n",
    "plt.plot(np.sin(phase)[49, :], label = 'sin')\n",
    "plt.plot(np.cos(phase)[49, :], label = 'cos')\n",
    "plt.plot(phase[49, :], label='phase')\n",
    "plt.legend()\n",
    "\n",
    "plt.subplot(1, 2, 2)\n",
    "plt.plot(np.tan(phase)[49, :], label = 'tan')\n",
    "sin_data = np.sin(phase)[49, :]\n",
    "cos_data = np.cos(phase)[49, :]\n",
    "plt.plot(np.arctan(sin_data/cos_data), label ='retrieved_phase')\n",
    "plt.plot(phase[49, :], label='actual_phase')\n",
    "\n",
    "plt.legend()\n",
    "plt.show()"
   ]
  },
  {
   "cell_type": "code",
   "execution_count": null,
   "id": "be58ca36-3d21-4bc5-87c6-18bc18cb39cb",
   "metadata": {},
   "outputs": [],
   "source": [
    "plt.figure(figsize=(15,7.5))\n",
    "\n",
    "plt.subplot(1, 2, 1)\n",
    "plt.title(\"Pupil Amplitude\")\n",
    "plt.imshow(pupil)\n",
    "plt.colorbar()\n",
    "\n",
    "plt.subplot(1, 2, 2)\n",
    "plt.title(\"Pupil Phase\")\n",
    "plt.imshow(phase)\n",
    "plt.colorbar()"
   ]
  },
  {
   "cell_type": "code",
   "execution_count": null,
   "id": "89916baa-a247-495c-87fd-a77bd4add7bb",
   "metadata": {},
   "outputs": [],
   "source": [
    "plt.figure(figsize=(7.5,7.5))\n",
    "plt.subplot(2, 2, 1)\n",
    "plt.title(\"Re(Pupil)\")\n",
    "plt.imshow(np.real(pupilarray))\n",
    "plt.colorbar()\n",
    "\n",
    "plt.subplot(2, 2, 2)\n",
    "plt.title(\"Im(Pupil)\")\n",
    "plt.imshow(np.imag(pupilarray))\n",
    "plt.colorbar()\n",
    "\n",
    "plt.subplot(2, 2, 3)\n",
    "plt.title(\"Re(Imagefield)\")\n",
    "plt.imshow(np.real(imagefield))\n",
    "plt.colorbar()\n",
    "\n",
    "plt.subplot(2, 2, 4)\n",
    "plt.title(\"Im(Imagefield)\")\n",
    "plt.imshow(np.imag(imagefield))\n",
    "plt.colorbar()"
   ]
  },
  {
   "cell_type": "code",
   "execution_count": null,
   "id": "dfea4d0f-8159-47be-b546-0044dc031958",
   "metadata": {},
   "outputs": [],
   "source": [
    "wavefront_pupil = np.zeros((px,px))\n",
    "for i in range(0, len(wavefront_pupil)):\n",
    "    for j in range(0, len(wavefront_pupil)):\n",
    "        if pupil[i, j]!=0:\n",
    "            wavefront_pupil[i, j] = math.atan(np.imag(pupilarray[i,j])/ np.real(pupilarray[i,j])) \n",
    "\n",
    "\n",
    "plt.figure(figsize = (15, 5))\n",
    "plt.subplot(1, 2, 1)\n",
    "plt.title('wavefront')\n",
    "plt.imshow(wavefront_pupil)\n",
    "plt.colorbar()\n",
    "\n",
    "plt.subplot(1, 2, 2)\n",
    "plt.title('cross-section')\n",
    "plt.plot(wavefront_pupil[49, :])"
   ]
  },
  {
   "cell_type": "code",
   "execution_count": null,
   "id": "e0cb21bf-9ca9-4ef7-a4a6-d5eb6a526507",
   "metadata": {},
   "outputs": [],
   "source": [
    "wavefront_focal = np.zeros((imagefield.shape[0], imagefield.shape[0]))\n",
    "for i in range(0, len(wavefront_focal)):\n",
    "    for j in range(0, len(wavefront_focal)):\n",
    "        if pupil[i, j]!=0:\n",
    "            wavefront_focal[i, j] = math.atan(np.imag(imagefield[i,j])/ np.real(imagefield[i,j]))  \n",
    "\n",
    "plt.figure(figsize = (15, 5))\n",
    "plt.subplot(1, 2, 1)\n",
    "plt.title('wavefront_focal')\n",
    "plt.imshow(wavefront_focal)\n",
    "plt.colorbar()\n",
    "\n",
    "plt.subplot(1, 2, 2)\n",
    "plt.title('cross-section')\n",
    "plt.plot(wavefront_focal[49, :])"
   ]
  },
  {
   "cell_type": "code",
   "execution_count": null,
   "id": "1caeb616-e808-4b45-b7eb-ea7bdfe503a0",
   "metadata": {},
   "outputs": [],
   "source": []
  }
 ],
 "metadata": {
  "kernelspec": {
   "display_name": "Python 3 (ipykernel)",
   "language": "python",
   "name": "python3"
  },
  "language_info": {
   "codemirror_mode": {
    "name": "ipython",
    "version": 3
   },
   "file_extension": ".py",
   "mimetype": "text/x-python",
   "name": "python",
   "nbconvert_exporter": "python",
   "pygments_lexer": "ipython3",
   "version": "3.10.16"
  }
 },
 "nbformat": 4,
 "nbformat_minor": 5
}
