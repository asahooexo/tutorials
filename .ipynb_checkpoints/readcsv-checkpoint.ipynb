{
 "cells": [
  {
   "cell_type": "markdown",
   "id": "b928d200",
   "metadata": {},
   "source": [
    "### Syntax read from a CSV file as a list"
   ]
  },
  {
   "cell_type": "code",
   "execution_count": null,
   "id": "b0a6faa2",
   "metadata": {},
   "outputs": [],
   "source": [
    "import csv"
   ]
  },
  {
   "cell_type": "code",
   "execution_count": null,
   "id": "6dd4f1ea",
   "metadata": {},
   "outputs": [],
   "source": [
    "data_list = []\n",
    "with open(\"/Users/asahoo/Documents/hicat2/metrics.csv\", 'r') as file:\n",
    "    data = csv.reader(file)\n",
    "    for row in data:\n",
    "        single_entry = row[3]\n",
    "        data_list.append(single_entry)\n",
    "\n",
    "print(type(data_list))\n",
    "\n",
    "# remove the first element of the list\n",
    "data_list.pop(0)\n",
    "contrast_list2 = [float(i) for i in data_list]\n",
    "\n",
    "print(type(contrast_list2))"
   ]
  },
  {
   "cell_type": "code",
   "execution_count": null,
   "id": "bdcad3ff",
   "metadata": {},
   "outputs": [],
   "source": []
  }
 ],
 "metadata": {
  "kernelspec": {
   "display_name": "Python 3 (ipykernel)",
   "language": "python",
   "name": "python3"
  },
  "language_info": {
   "codemirror_mode": {
    "name": "ipython",
    "version": 3
   },
   "file_extension": ".py",
   "mimetype": "text/x-python",
   "name": "python",
   "nbconvert_exporter": "python",
   "pygments_lexer": "ipython3",
   "version": "3.10.4"
  }
 },
 "nbformat": 4,
 "nbformat_minor": 5
}
