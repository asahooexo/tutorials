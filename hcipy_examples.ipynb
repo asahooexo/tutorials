{
 "cells": [
  {
   "cell_type": "markdown",
   "id": "c984b6c6",
   "metadata": {},
   "source": [
    "### This tutorial tests field_subsample method given in hcipy."
   ]
  },
  {
   "cell_type": "markdown",
   "id": "a3767628",
   "metadata": {},
   "source": [
    "#### Makesure hcipy is already installed in your conda env"
   ]
  },
  {
   "cell_type": "code",
   "execution_count": null,
   "id": "3d32cb54",
   "metadata": {},
   "outputs": [],
   "source": [
    "import numpy as np\n",
    "import matplotlib.pyplot as plt\n",
    "import hcipy"
   ]
  },
  {
   "cell_type": "markdown",
   "id": "37a34f32",
   "metadata": {},
   "source": [
    "#### Simple numpy functions to bin pixels in a 2d array"
   ]
  },
  {
   "cell_type": "code",
   "execution_count": null,
   "id": "5ec51fdd",
   "metadata": {},
   "outputs": [],
   "source": [
    "def matrix_subsample(matrix, n, m):\n",
    "    \"\"\"\n",
    "    Returns a downsampled-matrix with reduced order.\n",
    "    \n",
    "    Parameters \n",
    "    ----------\n",
    "    matrix : numpy 2D array\n",
    "        The original matrix which we want to reduce/ subsample.\n",
    "    n : int\n",
    "        number of rows of the reduced matrix\n",
    "    m : int\n",
    "        number of coloumns of the reduced matrix\n",
    "    \n",
    "    Returns\n",
    "    -------\n",
    "     matrix_reduced : numpy 2D array\n",
    "         The downsampled matrix of shape (n,m)\n",
    "    \"\"\"\n",
    "    arr_sum = []\n",
    "    l = matrix.shape[0]//n  # block length\n",
    "    b = matrix.shape[1]//m  # block breadth\n",
    "    for i in range(n):\n",
    "        for j in range(m):\n",
    "            sum_pixels = np.sum(matrix[i*l: (i+1)*l, j*b: (j+1)*b])\n",
    "            arr_sum.append(sum_pixels)\n",
    "    matrix_reduced = np.reshape(np.array(arr_sum), (n, m))\n",
    "    \n",
    "    return matrix_reduced\n",
    "\n",
    "def matrix_subsample_fast(matrix, n, m):\n",
    "    \"\"\"\n",
    "    Returns a downsampled-matrix with reduced order.\n",
    "    \n",
    "    Parameters \n",
    "    ----------\n",
    "    matrix : numpy 2D array\n",
    "        The original matrix which we want to reduce/ subsample.\n",
    "    n : int\n",
    "        number of rows of the reduced matrix\n",
    "    m : int\n",
    "        number of coloumns of the reduced matrix\n",
    "    \n",
    "    Returns\n",
    "    -------\n",
    "     matrix_reduced : numpy 2D array\n",
    "         The downsampled matrix of shape (n,m)\n",
    "    \"\"\"\n",
    "    l = matrix.shape[0] // n  # block length\n",
    "    b = matrix.shape[1] // m  # block breadth\n",
    "    new_shape = (n, l, m, b)\n",
    "    reshaped_array = matrix.reshape(new_shape)\n",
    "    matrix_reduced = np.sum(reshaped_array, axis=(1, 3))\n",
    "    \n",
    "    return matrix_reduced"
   ]
  },
  {
   "cell_type": "markdown",
   "id": "1adbb46d",
   "metadata": {},
   "source": [
    "#### ouput from matrix_subsample"
   ]
  },
  {
   "cell_type": "code",
   "execution_count": null,
   "id": "36453242",
   "metadata": {},
   "outputs": [],
   "source": [
    "a = np.ones((4,4))\n",
    "a_downsampled = matrix_subsample(a,2,2)\n",
    "print(a,'\\n')\n",
    "print(a_downsampled)"
   ]
  },
  {
   "cell_type": "markdown",
   "id": "ae2b73f7",
   "metadata": {},
   "source": [
    "#### Using hcipy method to test the same result."
   ]
  },
  {
   "cell_type": "code",
   "execution_count": null,
   "id": "d2a99810",
   "metadata": {
    "scrolled": true
   },
   "outputs": [],
   "source": [
    "grid = hcipy.field.make_uniform_grid((4,4), 4)\n",
    "a_field = hcipy.field.Field(np.ones(16), grid)\n",
    "new_grid = hcipy.field.make_uniform_grid((2,2), 2)\n",
    "sub_sample = 2\n",
    "a_field_sub = hcipy.field.subsample_field(a_field, sub_sample, new_grid, statistic='mean')*sub_sample"
   ]
  },
  {
   "cell_type": "code",
   "execution_count": null,
   "id": "d240533f",
   "metadata": {
    "scrolled": true
   },
   "outputs": [],
   "source": [
    "print(\"a_field :\",a_field)\n",
    "print(\"a_field_subsampled :\",a_field_sub)"
   ]
  },
  {
   "cell_type": "code",
   "execution_count": null,
   "id": "a34071f5",
   "metadata": {},
   "outputs": [],
   "source": [
    "plt.figure(figsize=(7,3))\n",
    "plt.subplot(1,2,1)\n",
    "plt.title(\"grid\")\n",
    "plt.plot(a_field.grid.x, a_field.grid.y, 'o')\n",
    "plt.subplot(1,2,2)\n",
    "plt.title(\"new_grid\")\n",
    "plt.plot(new_grid.x, new_grid.y, 'o')"
   ]
  },
  {
   "cell_type": "code",
   "execution_count": null,
   "id": "a7af1881",
   "metadata": {},
   "outputs": [],
   "source": []
  }
 ],
 "metadata": {
  "kernelspec": {
   "display_name": "Python 3 (ipykernel)",
   "language": "python",
   "name": "python3"
  },
  "language_info": {
   "codemirror_mode": {
    "name": "ipython",
    "version": 3
   },
   "file_extension": ".py",
   "mimetype": "text/x-python",
   "name": "python",
   "nbconvert_exporter": "python",
   "pygments_lexer": "ipython3",
   "version": "3.10.4"
  }
 },
 "nbformat": 4,
 "nbformat_minor": 5
}
