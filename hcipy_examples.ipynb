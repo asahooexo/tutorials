{
 "cells": [
  {
   "cell_type": "markdown",
   "id": "c984b6c6",
   "metadata": {},
   "source": [
    "### This tutorial tests field_subsample method given in hcipy."
   ]
  },
  {
   "cell_type": "markdown",
   "id": "a3767628",
   "metadata": {},
   "source": [
    "#### Makesure hcipy is already installed in your conda env"
   ]
  },
  {
   "cell_type": "code",
   "execution_count": 2,
   "id": "3d32cb54",
   "metadata": {},
   "outputs": [],
   "source": [
    "import numpy as np\n",
    "import hcipy"
   ]
  },
  {
   "cell_type": "markdown",
   "id": "37a34f32",
   "metadata": {},
   "source": [
    "#### Simple numpy functions to bin pixels in a 2d array"
   ]
  },
  {
   "cell_type": "code",
   "execution_count": 8,
   "id": "5ec51fdd",
   "metadata": {},
   "outputs": [],
   "source": [
    "def matrix_subsample(matrix, n, m):\n",
    "    \"\"\"\n",
    "    Returns a downsampled-matrix with reduced order.\n",
    "    \n",
    "    Parameters \n",
    "    ----------\n",
    "    matrix : numpy 2D array\n",
    "        The original matrix which we want to reduce/ subsample.\n",
    "    n : int\n",
    "        number of rows of the reduced matrix\n",
    "    m : int\n",
    "        number of coloumns of the reduced matrix\n",
    "    \n",
    "    Returns\n",
    "    -------\n",
    "     matrix_reduced : numpy 2D array\n",
    "         The downsampled matrix of shape (n,m)\n",
    "    \"\"\"\n",
    "    arr_sum = []\n",
    "    l = matrix.shape[0]//n  # block length\n",
    "    b = matrix.shape[1]//m  # block breadth\n",
    "    for i in range(n):\n",
    "        for j in range(m):\n",
    "            sum_pixels = np.sum(matrix[i*l: (i+1)*l, j*b: (j+1)*b])\n",
    "            arr_sum.append(sum_pixels)\n",
    "    matrix_reduced = np.reshape(np.array(arr_sum), (n, m))\n",
    "    \n",
    "    return matrix_reduced\n",
    "\n",
    "def matrix_subsample_fast(matrix, n, m):\n",
    "    \"\"\"\n",
    "    Returns a downsampled-matrix with reduced order.\n",
    "    \n",
    "    Parameters \n",
    "    ----------\n",
    "    matrix : numpy 2D array\n",
    "        The original matrix which we want to reduce/ subsample.\n",
    "    n : int\n",
    "        number of rows of the reduced matrix\n",
    "    m : int\n",
    "        number of coloumns of the reduced matrix\n",
    "    \n",
    "    Returns\n",
    "    -------\n",
    "     matrix_reduced : numpy 2D array\n",
    "         The downsampled matrix of shape (n,m)\n",
    "    \"\"\"\n",
    "    l = matrix.shape[0] // n  # block length\n",
    "    b = matrix.shape[1] // m  # block breadth\n",
    "    new_shape = (n, l, m, b)\n",
    "    reshaped_array = matrix.reshape(new_shape)\n",
    "    matrix_reduced = np.sum(reshaped_array, axis=(1, 3))\n",
    "    \n",
    "    return matrix_reduced"
   ]
  },
  {
   "cell_type": "markdown",
   "id": "1adbb46d",
   "metadata": {},
   "source": [
    "#### Check the ouput you get from matrix_subsample"
   ]
  },
  {
   "cell_type": "code",
   "execution_count": 12,
   "id": "36453242",
   "metadata": {},
   "outputs": [
    {
     "name": "stdout",
     "output_type": "stream",
     "text": [
      "[[1. 1. 1. 1.]\n",
      " [1. 1. 1. 1.]\n",
      " [1. 1. 1. 1.]\n",
      " [1. 1. 1. 1.]] \n",
      " [[4. 4.]\n",
      " [4. 4.]]\n"
     ]
    }
   ],
   "source": [
    "a = np.ones((4,4))\n",
    "a_downsampled = matrix_subsample(a,2,2)\n",
    "print(a,'\\n', a_downsampled)"
   ]
  },
  {
   "cell_type": "markdown",
   "id": "ae2b73f7",
   "metadata": {},
   "source": [
    "#### Use hcipy method to test the same result."
   ]
  },
  {
   "cell_type": "code",
   "execution_count": null,
   "id": "f315ca84",
   "metadata": {},
   "outputs": [],
   "source": []
  }
 ],
 "metadata": {
  "kernelspec": {
   "display_name": "Python 3 (ipykernel)",
   "language": "python",
   "name": "python3"
  },
  "language_info": {
   "codemirror_mode": {
    "name": "ipython",
    "version": 3
   },
   "file_extension": ".py",
   "mimetype": "text/x-python",
   "name": "python",
   "nbconvert_exporter": "python",
   "pygments_lexer": "ipython3",
   "version": "3.10.4"
  }
 },
 "nbformat": 4,
 "nbformat_minor": 5
}
